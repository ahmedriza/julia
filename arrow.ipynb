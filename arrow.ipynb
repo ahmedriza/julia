{
 "cells": [
  {
   "cell_type": "code",
   "execution_count": 1,
   "id": "ac897f81-c64b-463a-9ed8-1564d21b2d18",
   "metadata": {},
   "outputs": [],
   "source": [
    "import pyarrow as pa\n",
    "import numpy as np\n",
    "import pandas as pd"
   ]
  },
  {
   "cell_type": "code",
   "execution_count": 2,
   "id": "8325cc33-df83-499c-a737-a24b37c2a48c",
   "metadata": {},
   "outputs": [
    {
     "data": {
      "text/plain": [
       "'13.0.0'"
      ]
     },
     "execution_count": 2,
     "metadata": {},
     "output_type": "execute_result"
    }
   ],
   "source": [
    "pa.__version__"
   ]
  },
  {
   "cell_type": "code",
   "execution_count": 2,
   "id": "40fe744d-c238-4afa-8abf-36fc2ded2f01",
   "metadata": {},
   "outputs": [],
   "source": [
    "arr = pa.array([1,2,3,4])"
   ]
  },
  {
   "cell_type": "code",
   "execution_count": null,
   "id": "263b86e1-6094-4a48-9141-903bf57186fb",
   "metadata": {},
   "outputs": [],
   "source": []
  },
  {
   "cell_type": "markdown",
   "id": "4c77c2f4-31d5-4663-9176-a2cee3a20fba",
   "metadata": {},
   "source": [
    "### Create a Record Batch"
   ]
  },
  {
   "cell_type": "code",
   "execution_count": 3,
   "id": "73b97e3f-fda6-4977-af3c-cac33ce1764c",
   "metadata": {},
   "outputs": [
    {
     "name": "stdout",
     "output_type": "stream",
     "text": [
      "Schema:\n",
      "c0: double\n",
      "c1: double\n",
      "c2: double\n",
      "Number of rows: 5\n"
     ]
    },
    {
     "data": {
      "text/plain": [
       "pyarrow.RecordBatch\n",
       "c0: double\n",
       "c1: double\n",
       "c2: double\n",
       "----\n",
       "c0: [-0.8563064329314133,-0.41848941306191845,-0.2938948616854316,0.7191179100660653,1.6326755634821601]\n",
       "c1: [1.1776877910333934,-0.2911940098038575,0.24063503807159045,-1.5131669281641935,0.4043618336674261]\n",
       "c2: [0.0060882069584162896,1.0682068256979511,-1.7676270681387618,1.9072153643808951,-1.2221326893076547]"
      ]
     },
     "execution_count": 3,
     "metadata": {},
     "output_type": "execute_result"
    }
   ],
   "source": [
    "NROWS = 5\n",
    "NCOLS = 3\n",
    "data = [pa.array(np.random.randn(NROWS)) for i in range(NCOLS)]\n",
    "cols = ['c' + str(i) for i in range(NCOLS)]\n",
    "rb = pa.RecordBatch.from_arrays(data, cols)\n",
    "print(\"Schema:\")\n",
    "print(rb.schema)\n",
    "print(\"Number of rows:\", rb.num_rows)\n",
    "rb"
   ]
  },
  {
   "cell_type": "code",
   "execution_count": null,
   "id": "bc003703-7d51-4448-8a28-ec3bcc844cd1",
   "metadata": {},
   "outputs": [],
   "source": []
  },
  {
   "cell_type": "code",
   "execution_count": null,
   "id": "dea2cf83-50b1-406a-9d17-f2f22765a706",
   "metadata": {},
   "outputs": [],
   "source": []
  },
  {
   "cell_type": "code",
   "execution_count": 4,
   "id": "cfd8a533-e737-4d3f-acfa-ff4d00e859fc",
   "metadata": {},
   "outputs": [],
   "source": [
    "archer_list = [{\n",
    "    'archer': 'Legolas',\n",
    "    'location': 'Mirkwood',\n",
    "    'year': 1954\n",
    "},{\n",
    "    'archer': 'Oliver',\n",
    "    'location': 'Star City',\n",
    "    'year': 1941\n",
    "},{\n",
    "    'archer': 'Merida',\n",
    "    'location': 'Scotland',\n",
    "    'year': 2012\n",
    "},{\n",
    "    'archer': 'Lara',\n",
    "    'location': 'London',\n",
    "    'year': 1996\n",
    "},{\n",
    "    'archer': 'Artemis',\n",
    "    'location': 'Greece',\n",
    "    'year': -600\n",
    "}]"
   ]
  },
  {
   "cell_type": "code",
   "execution_count": 5,
   "id": "781817d6-6acc-4e3e-ba1a-2d987654e171",
   "metadata": {},
   "outputs": [],
   "source": [
    "archer_type = pa.struct([('archer', pa.utf8()), ('location', pa.utf8()), ('year', pa.int16())])"
   ]
  },
  {
   "cell_type": "code",
   "execution_count": 6,
   "id": "0978211c-583b-4a89-9ef3-13131121eb53",
   "metadata": {},
   "outputs": [
    {
     "name": "stdout",
     "output_type": "stream",
     "text": [
      "struct<archer: string, location: string, year: int16>\n"
     ]
    }
   ],
   "source": [
    "archers = pa.array(archer_list, type=archer_type)\n",
    "print(archers.type)"
   ]
  },
  {
   "cell_type": "markdown",
   "id": "10c0aa1e-6729-4554-a32e-ae97b064a065",
   "metadata": {},
   "source": [
    "### Create record batch - zero copy manipulation"
   ]
  },
  {
   "cell_type": "code",
   "execution_count": 7,
   "id": "a7da44a6-017d-4591-b4c4-c997ffbcb94f",
   "metadata": {},
   "outputs": [
    {
     "name": "stdout",
     "output_type": "stream",
     "text": [
      "number of rows:  5\n",
      "number of cols:  3\n"
     ]
    },
    {
     "data": {
      "text/html": [
       "<div>\n",
       "<style scoped>\n",
       "    .dataframe tbody tr th:only-of-type {\n",
       "        vertical-align: middle;\n",
       "    }\n",
       "\n",
       "    .dataframe tbody tr th {\n",
       "        vertical-align: top;\n",
       "    }\n",
       "\n",
       "    .dataframe thead th {\n",
       "        text-align: right;\n",
       "    }\n",
       "</style>\n",
       "<table border=\"1\" class=\"dataframe\">\n",
       "  <thead>\n",
       "    <tr style=\"text-align: right;\">\n",
       "      <th></th>\n",
       "      <th>archer</th>\n",
       "      <th>location</th>\n",
       "      <th>year</th>\n",
       "    </tr>\n",
       "  </thead>\n",
       "  <tbody>\n",
       "    <tr>\n",
       "      <th>0</th>\n",
       "      <td>Legolas</td>\n",
       "      <td>Mirkwood</td>\n",
       "      <td>1954</td>\n",
       "    </tr>\n",
       "    <tr>\n",
       "      <th>1</th>\n",
       "      <td>Oliver</td>\n",
       "      <td>Star City</td>\n",
       "      <td>1941</td>\n",
       "    </tr>\n",
       "    <tr>\n",
       "      <th>2</th>\n",
       "      <td>Merida</td>\n",
       "      <td>Scotland</td>\n",
       "      <td>2012</td>\n",
       "    </tr>\n",
       "    <tr>\n",
       "      <th>3</th>\n",
       "      <td>Lara</td>\n",
       "      <td>London</td>\n",
       "      <td>1996</td>\n",
       "    </tr>\n",
       "    <tr>\n",
       "      <th>4</th>\n",
       "      <td>Artemis</td>\n",
       "      <td>Greece</td>\n",
       "      <td>-600</td>\n",
       "    </tr>\n",
       "  </tbody>\n",
       "</table>\n",
       "</div>"
      ],
      "text/plain": [
       "    archer   location  year\n",
       "0  Legolas   Mirkwood  1954\n",
       "1   Oliver  Star City  1941\n",
       "2   Merida   Scotland  2012\n",
       "3     Lara     London  1996\n",
       "4  Artemis     Greece  -600"
      ]
     },
     "execution_count": 7,
     "metadata": {},
     "output_type": "execute_result"
    }
   ],
   "source": [
    "rb = pa.RecordBatch.from_arrays(archers.flatten(), ['archer', 'location', 'year'])\n",
    "print(\"number of rows: \", rb.num_rows)\n",
    "print(\"number of cols: \", rb.num_columns)\n",
    "rb.to_pandas()"
   ]
  },
  {
   "cell_type": "markdown",
   "id": "e5ce653c-2300-4ce5-9400-e3800be9530e",
   "metadata": {},
   "source": [
    "### Slicing a Record Batch"
   ]
  },
  {
   "cell_type": "code",
   "execution_count": 48,
   "id": "3176b632-3585-4838-aaf3-c184e7ba08f0",
   "metadata": {},
   "outputs": [
    {
     "name": "stdout",
     "output_type": "stream",
     "text": [
      "[\n",
      "  1941,\n",
      "  2012,\n",
      "  1996\n",
      "]\n"
     ]
    },
    {
     "data": {
      "text/html": [
       "<div>\n",
       "<style scoped>\n",
       "    .dataframe tbody tr th:only-of-type {\n",
       "        vertical-align: middle;\n",
       "    }\n",
       "\n",
       "    .dataframe tbody tr th {\n",
       "        vertical-align: top;\n",
       "    }\n",
       "\n",
       "    .dataframe thead th {\n",
       "        text-align: right;\n",
       "    }\n",
       "</style>\n",
       "<table border=\"1\" class=\"dataframe\">\n",
       "  <thead>\n",
       "    <tr style=\"text-align: right;\">\n",
       "      <th></th>\n",
       "      <th>archer</th>\n",
       "      <th>location</th>\n",
       "      <th>year</th>\n",
       "    </tr>\n",
       "  </thead>\n",
       "  <tbody>\n",
       "    <tr>\n",
       "      <th>0</th>\n",
       "      <td>Oliver</td>\n",
       "      <td>Star City</td>\n",
       "      <td>1941</td>\n",
       "    </tr>\n",
       "    <tr>\n",
       "      <th>1</th>\n",
       "      <td>Merida</td>\n",
       "      <td>Scotland</td>\n",
       "      <td>2012</td>\n",
       "    </tr>\n",
       "    <tr>\n",
       "      <th>2</th>\n",
       "      <td>Lara</td>\n",
       "      <td>London</td>\n",
       "      <td>1996</td>\n",
       "    </tr>\n",
       "  </tbody>\n",
       "</table>\n",
       "</div>"
      ],
      "text/plain": [
       "   archer   location  year\n",
       "0  Oliver  Star City  1941\n",
       "1  Merida   Scotland  2012\n",
       "2    Lara     London  1996"
      ]
     },
     "execution_count": 48,
     "metadata": {},
     "output_type": "execute_result"
    }
   ],
   "source": [
    "# slicing a Record Batch\n",
    "rb_slice = rb.slice(1,3)\n",
    "print(rb_slice.column(2))\n",
    "rb_slice.to_pandas()"
   ]
  },
  {
   "cell_type": "markdown",
   "id": "67a3f2eb-d60e-4015-bb93-8accfca7b90c",
   "metadata": {},
   "source": [
    "Take a (row-wise) list of objects with the following structure and convert them to a column-oriented record batch:\n",
    "{ id: int, cost: double, cost_components: list<double> }\n",
    "\n",
    "An example might be { \"id\": 4, \"cost\": 241.21, \"cost_ components\": [ 100.00, 140.10, 1.11] } for a single object."
   ]
  },
  {
   "cell_type": "code",
   "execution_count": 8,
   "id": "ce05a478-654d-49a6-95bf-0d1080321fa1",
   "metadata": {},
   "outputs": [],
   "source": [
    "components_list = [{\n",
    "    \"id\": 4,\n",
    "    \"cost\": 241.21,\n",
    "    \"cost_components\": [100.0, 140.10, 1.11]\n",
    "},\n",
    "{\n",
    "    \"id\": 5,\n",
    "    \"cost\": 251.21,\n",
    "    \"cost_components\": [200.0, 240.10, 2.11]\n",
    "}]"
   ]
  },
  {
   "cell_type": "code",
   "execution_count": 9,
   "id": "f7d58efd-860d-48c9-ae6d-578f75d26711",
   "metadata": {},
   "outputs": [],
   "source": [
    "components_type = pa.struct([(\"id\", pa.int16()), (\"cost\", pa.float64()), (\"cost_components\", pa.list_(pa.float64()))])"
   ]
  },
  {
   "cell_type": "code",
   "execution_count": 10,
   "id": "ed0daf23-d394-47c2-a6e5-48c906c78177",
   "metadata": {},
   "outputs": [],
   "source": [
    "components_array = pa.array(components_list, type=components_type)\n",
    "rb = pa.RecordBatch.from_arrays(components_array.flatten(), [\"id\", \"cost\", \"cost_components\"])"
   ]
  },
  {
   "cell_type": "code",
   "execution_count": 11,
   "id": "28c9443f-7dbd-4ff5-b6e0-c2f88311492f",
   "metadata": {},
   "outputs": [
    {
     "data": {
      "text/html": [
       "<div>\n",
       "<style scoped>\n",
       "    .dataframe tbody tr th:only-of-type {\n",
       "        vertical-align: middle;\n",
       "    }\n",
       "\n",
       "    .dataframe tbody tr th {\n",
       "        vertical-align: top;\n",
       "    }\n",
       "\n",
       "    .dataframe thead th {\n",
       "        text-align: right;\n",
       "    }\n",
       "</style>\n",
       "<table border=\"1\" class=\"dataframe\">\n",
       "  <thead>\n",
       "    <tr style=\"text-align: right;\">\n",
       "      <th></th>\n",
       "      <th>id</th>\n",
       "      <th>cost</th>\n",
       "      <th>cost_components</th>\n",
       "    </tr>\n",
       "  </thead>\n",
       "  <tbody>\n",
       "    <tr>\n",
       "      <th>0</th>\n",
       "      <td>4</td>\n",
       "      <td>241.21</td>\n",
       "      <td>[100.0, 140.1, 1.11]</td>\n",
       "    </tr>\n",
       "    <tr>\n",
       "      <th>1</th>\n",
       "      <td>5</td>\n",
       "      <td>251.21</td>\n",
       "      <td>[200.0, 240.1, 2.11]</td>\n",
       "    </tr>\n",
       "  </tbody>\n",
       "</table>\n",
       "</div>"
      ],
      "text/plain": [
       "   id    cost       cost_components\n",
       "0   4  241.21  [100.0, 140.1, 1.11]\n",
       "1   5  251.21  [200.0, 240.1, 2.11]"
      ]
     },
     "execution_count": 11,
     "metadata": {},
     "output_type": "execute_result"
    }
   ],
   "source": [
    "rb.to_pandas()"
   ]
  },
  {
   "cell_type": "code",
   "execution_count": 16,
   "id": "01c2c082-14fc-4568-8898-98f1e91c4f01",
   "metadata": {},
   "outputs": [
    {
     "data": {
      "text/plain": [
       "['id', 'cost', 'cost_components']"
      ]
     },
     "execution_count": 16,
     "metadata": {},
     "output_type": "execute_result"
    }
   ],
   "source": [
    "rb.column_names"
   ]
  },
  {
   "cell_type": "code",
   "execution_count": 29,
   "id": "c08cfe78-5fe2-4630-bbe0-c0fe2d8e0ade",
   "metadata": {},
   "outputs": [
    {
     "data": {
      "text/plain": [
       "{'id': [4, 5],\n",
       " 'cost': [241.21, 251.21],\n",
       " 'cost_components': [[100.0, 140.1, 1.11], [200.0, 240.1, 2.11]]}"
      ]
     },
     "execution_count": 29,
     "metadata": {},
     "output_type": "execute_result"
    }
   ],
   "source": [
    "dict = rb.to_pydict()\n",
    "dict"
   ]
  },
  {
   "cell_type": "code",
   "execution_count": null,
   "id": "0ff516aa-235b-4f59-ac9c-bff84dd16c8d",
   "metadata": {},
   "outputs": [],
   "source": []
  }
 ],
 "metadata": {
  "kernelspec": {
   "display_name": "Python 3 (ipykernel)",
   "language": "python",
   "name": "python3"
  },
  "language_info": {
   "codemirror_mode": {
    "name": "ipython",
    "version": 3
   },
   "file_extension": ".py",
   "mimetype": "text/x-python",
   "name": "python",
   "nbconvert_exporter": "python",
   "pygments_lexer": "ipython3",
   "version": "3.11.6"
  }
 },
 "nbformat": 4,
 "nbformat_minor": 5
}
